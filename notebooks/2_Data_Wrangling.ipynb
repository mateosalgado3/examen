{
 "cells": [
  {
   "cell_type": "code",
   "execution_count": 1,
   "id": "51089d7f",
   "metadata": {},
   "outputs": [
    {
     "name": "stdout",
     "output_type": "stream",
     "text": [
      "\n",
      " Data Wrangling completado. Archivo guardado: usuarios_consumo_limpio.csv\n"
     ]
    }
   ],
   "source": [
    "# 📌 Importar librerías\n",
    "import pandas as pd\n",
    "import numpy as np\n",
    "\n",
    "#  Ruta de los archivos CSV en la carpeta \"raw\"\n",
    "raw_path = \"C:/Users/pmate/OneDrive - Universidad San Francisco de Quito/8 SEMESTRE/DataMining/Examanes/Proyecto_Megaline/data/raw/\"\n",
    "\n",
    "#  Cargar los datasets\n",
    "df_users = pd.read_csv(raw_path + \"megaline_users.csv\")\n",
    "df_calls = pd.read_csv(raw_path + \"megaline_calls.csv\")\n",
    "df_sms = pd.read_csv(raw_path + \"megaline_messages.csv\")\n",
    "df_internet = pd.read_csv(raw_path + \"megaline_internet.csv\")\n",
    "df_plans = pd.read_csv(raw_path + \"megaline_plans.csv\")\n",
    "\n",
    "#  **1️⃣ Manejo de valores faltantes**\n",
    "# Los únicos valores nulos están en churn_date (usuarios que no han cancelado su plan). No es un problema.\n",
    "df_users[\"churn_date\"].fillna(\"Activo\", inplace=True)\n",
    "\n",
    "#  **2️⃣ Tratamiento de outliers**\n",
    "# 📌 Llamadas: Eliminar llamadas con duración = 0 (posibles errores o llamadas fallidas)\n",
    "df_calls = df_calls[df_calls[\"duration\"] > 0]\n",
    "\n",
    "# SMS: No hay datos faltantes, pero revisamos outliers\n",
    "sms_counts = df_sms.groupby(\"user_id\").size()\n",
    "sms_outlier_threshold = sms_counts.quantile(0.99)  # Top 1% como outliers\n",
    "df_sms = df_sms[df_sms[\"user_id\"].map(sms_counts) <= sms_outlier_threshold]\n",
    "\n",
    "#  Internet: Identificar y manejar outliers\n",
    "data_usage = df_internet.groupby(\"user_id\")[\"mb_used\"].sum()\n",
    "data_outlier_threshold = data_usage.quantile(0.99)  # Top 1% como outliers\n",
    "df_internet = df_internet[df_internet[\"user_id\"].map(data_usage) <= data_outlier_threshold]\n",
    "\n",
    "#  **3️⃣ Unificación de las tablas**\n",
    "# 🔹 Agrupar consumo por usuario\n",
    "df_calls_grouped = df_calls.groupby(\"user_id\")[\"duration\"].sum().reset_index()\n",
    "df_calls_grouped.rename(columns={\"duration\": \"total_minutos\"}, inplace=True)\n",
    "\n",
    "df_sms_grouped = df_sms.groupby(\"user_id\").size().reset_index(name=\"total_sms\")\n",
    "\n",
    "df_internet_grouped = df_internet.groupby(\"user_id\")[\"mb_used\"].sum().reset_index()\n",
    "df_internet_grouped.rename(columns={\"mb_used\": \"total_mb\"}, inplace=True)\n",
    "\n",
    "# 🔹 Unimos los datos de consumo con los usuarios y planes\n",
    "df_users = df_users.merge(df_plans, left_on=\"plan\", right_on=\"plan_name\", how=\"left\")\n",
    "df_users = df_users.merge(df_calls_grouped, on=\"user_id\", how=\"left\").fillna(0)\n",
    "df_users = df_users.merge(df_sms_grouped, on=\"user_id\", how=\"left\").fillna(0)\n",
    "df_users = df_users.merge(df_internet_grouped, on=\"user_id\", how=\"left\").fillna(0)\n",
    "\n",
    "#  **4️⃣ Cálculo de Excesos y Costos Extra**\n",
    "df_users[\"exceso_minutos\"] = (df_users[\"total_minutos\"] - df_users[\"minutes_included\"]).clip(lower=0)\n",
    "df_users[\"exceso_sms\"] = (df_users[\"total_sms\"] - df_users[\"messages_included\"]).clip(lower=0)\n",
    "df_users[\"exceso_mb\"] = (df_users[\"total_mb\"] - df_users[\"mb_per_month_included\"]).clip(lower=0)\n",
    "\n",
    "#  Cálculo del costo extra por sobreconsumo\n",
    "df_users[\"costo_extra_minutos\"] = df_users[\"exceso_minutos\"] * df_users[\"usd_per_minute\"]\n",
    "df_users[\"costo_extra_sms\"] = df_users[\"exceso_sms\"] * df_users[\"usd_per_message\"]\n",
    "df_users[\"costo_extra_mb\"] = (df_users[\"exceso_mb\"] / 1024) * df_users[\"usd_per_gb\"]\n",
    "\n",
    "#  Cálculo del costo total que paga cada usuario\n",
    "df_users[\"costo_total\"] = df_users[\"usd_monthly_pay\"] + df_users[\"costo_extra_minutos\"] + df_users[\"costo_extra_sms\"] + df_users[\"costo_extra_mb\"]\n",
    "\n",
    "#  **5️⃣ Guardamos el dataset limpio**\n",
    "clean_path = \"C:/Users/pmate/OneDrive - Universidad San Francisco de Quito/8 SEMESTRE/DataMining/Examanes/Proyecto_Megaline/data/clean/\"\n",
    "df_users.to_csv(clean_path + \"usuarios_consumo_limpio.csv\", index=False)\n",
    "\n",
    "print(\"\\n Data Wrangling completado. Archivo guardado: usuarios_consumo_limpio.csv\")\n"
   ]
  },
  {
   "cell_type": "code",
   "execution_count": null,
   "id": "235ef0fa",
   "metadata": {},
   "outputs": [],
   "source": [
    "# Se realizó Data Wrangling para limpiar y unificar los datos. Primero, se manejaron valores faltantes, \n",
    "# reemplazando los nulos en churn_date por \"Activo\". Luego, se eliminaron outliers: llamadas de 0 minutos, \n",
    "# usuarios con SMS y consumo de datos en el top 1% fueron filtrados. Se agruparon los datos de consumo de \n",
    "# llamadas, SMS y MB por usuario, asegurando que los JOINs no eliminaran información importante. Se calcularon \n",
    "# los excesos de minutos, SMS y datos en relación con los límites del plan y se estimaron los costos extra por \n",
    "# sobreconsumo. Finalmente, se sumaron estos costos al valor del plan base para obtener el costo total que \n",
    "# cada usuario pagará. El dataset final fue guardado como \"usuarios_consumo_limpio.csv\" y está listo para \n",
    "# Feature Engineering y Modelado.\n"
   ]
  }
 ],
 "metadata": {
  "kernelspec": {
   "display_name": "Python 3 (ipykernel)",
   "language": "python",
   "name": "python3"
  },
  "language_info": {
   "codemirror_mode": {
    "name": "ipython",
    "version": 3
   },
   "file_extension": ".py",
   "mimetype": "text/x-python",
   "name": "python",
   "nbconvert_exporter": "python",
   "pygments_lexer": "ipython3",
   "version": "3.11.5"
  }
 },
 "nbformat": 4,
 "nbformat_minor": 5
}
