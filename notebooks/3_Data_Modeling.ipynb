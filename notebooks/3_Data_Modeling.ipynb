{
 "cells": [
  {
   "cell_type": "code",
   "execution_count": 3,
   "id": "48bcfc8b",
   "metadata": {},
   "outputs": [
    {
     "name": "stdout",
     "output_type": "stream",
     "text": [
      "\n",
      "✅ Modelado de Datos (Star Schema) corregido. `fact_consumo.csv` ahora contiene todas las columnas necesarias.\n"
     ]
    }
   ],
   "source": [
    "# 📌 Importar librerías\n",
    "import pandas as pd\n",
    "\n",
    "# 📌 Ruta del dataset limpio\n",
    "clean_path = \"C:/Users/pmate/OneDrive - Universidad San Francisco de Quito/8 SEMESTRE/DataMining/Examanes/Proyecto_Megaline/data/clean/\"\n",
    "\n",
    "# 📌 Cargar los datasets\n",
    "df_users = pd.read_csv(clean_path + \"usuarios_consumo_limpio.csv\")\n",
    "\n",
    "# ✅ **1️⃣ Crear la Dimensión de Usuarios**\n",
    "dim_usuarios = df_users[[\"user_id\", \"first_name\", \"last_name\", \"age\", \"city\", \"reg_date\", \"churn_date\", \"plan\"]].copy()\n",
    "\n",
    "# ✅ **2️⃣ Crear la Dimensión de Planes**\n",
    "dim_planes = df_users[[\"plan\", \"usd_monthly_pay\", \"minutes_included\", \"messages_included\",\n",
    "                       \"mb_per_month_included\", \"usd_per_minute\", \"usd_per_message\", \"usd_per_gb\"]].drop_duplicates().copy()\n",
    "dim_planes.rename(columns={\"plan\": \"plan_id\"}, inplace=True)\n",
    "\n",
    "# ✅ **3️⃣ Crear la Dimensión de Consumo Agregado**\n",
    "dim_consumo_agregado = df_users[[\"user_id\", \"total_minutos\", \"exceso_minutos\", \"total_sms\", \"exceso_sms\",\n",
    "                                 \"total_mb\", \"exceso_mb\", \"costo_extra_minutos\", \"costo_extra_sms\", \"costo_extra_mb\"]].copy()\n",
    "\n",
    "# ✅ **4️⃣ Corregir la Tabla de Hechos - Incluir toda la información necesaria**\n",
    "fact_consumo = df_users[[\"user_id\", \"total_minutos\", \"total_sms\", \"total_mb\", \"costo_total\", \"plan\",\n",
    "                         \"exceso_minutos\", \"exceso_sms\", \"exceso_mb\", \"costo_extra_minutos\",\n",
    "                         \"costo_extra_sms\", \"costo_extra_mb\", \"age\", \"city\"]].copy()  # 🔹 Agregamos `age` y `city`\n",
    "\n",
    "# 🔹 Agregar los valores del plan a `fact_consumo`\n",
    "fact_consumo = fact_consumo.merge(dim_planes, left_on=\"plan\", right_on=\"plan_id\", how=\"left\")\n",
    "\n",
    "# ✅ **5️⃣ Guardamos las Tablas en Data/Clean**\n",
    "dim_usuarios.to_csv(clean_path + \"dim_usuarios.csv\", index=False)\n",
    "dim_planes.to_csv(clean_path + \"dim_planes.csv\", index=False)\n",
    "dim_consumo_agregado.to_csv(clean_path + \"dim_consumo_agregado.csv\", index=False)\n",
    "fact_consumo.to_csv(clean_path + \"fact_consumo.csv\", index=False)\n",
    "\n",
    "print(\"\\n✅ Modelado de Datos (Star Schema) corregido. `fact_consumo.csv` ahora contiene todas las columnas necesarias.\")\n"
   ]
  },
  {
   "cell_type": "code",
   "execution_count": 2,
   "id": "464afd2e",
   "metadata": {},
   "outputs": [],
   "source": [
    "# Se diseñó un esquema en estrella (Star Schema) para modelar los datos sin redundancia, \n",
    "# creando una tabla de hechos `fact_consumo` con el total de consumo (minutos, SMS, MB) \n",
    "# y el costo total por usuario y periodo. Se generaron tres dimensiones: \n",
    "# `dim_usuarios` con datos personales y plan asociado, `dim_planes` con la información \n",
    "# detallada de cada plan y sus costos, y `dim_consumo_agregado` con el consumo total, \n",
    "# excesos y costos adicionales de cada usuario. Se aseguraron las relaciones entre tablas \n",
    "# a través de `user_id` y `plan_id`, permitiendo consultas eficientes. Todas las tablas \n",
    "# fueron guardadas en `data/clean/` y están listas para análisis y predicción en la \n",
    "# siguiente fase de Feature Engineering.\n"
   ]
  },
  {
   "cell_type": "code",
   "execution_count": null,
   "id": "f2c785ab",
   "metadata": {},
   "outputs": [],
   "source": []
  }
 ],
 "metadata": {
  "kernelspec": {
   "display_name": "Python 3 (ipykernel)",
   "language": "python",
   "name": "python3"
  },
  "language_info": {
   "codemirror_mode": {
    "name": "ipython",
    "version": 3
   },
   "file_extension": ".py",
   "mimetype": "text/x-python",
   "name": "python",
   "nbconvert_exporter": "python",
   "pygments_lexer": "ipython3",
   "version": "3.11.5"
  }
 },
 "nbformat": 4,
 "nbformat_minor": 5
}
