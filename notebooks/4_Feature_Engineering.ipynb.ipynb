{
 "cells": [
  {
   "cell_type": "code",
   "execution_count": 23,
   "id": "0f8ac08c",
   "metadata": {},
   "outputs": [
    {
     "name": "stdout",
     "output_type": "stream",
     "text": [
      "\n",
      "✅ Feature Engineering completado. Archivo guardado en 'data/ml/'.\n"
     ]
    }
   ],
   "source": [
    "# 📌 Importar librerías\n",
    "import pandas as pd\n",
    "import numpy as np\n",
    "from sklearn.preprocessing import MinMaxScaler\n",
    "\n",
    "# 📌 Rutas de entrada y salida\n",
    "clean_path = \"C:/Users/pmate/OneDrive - Universidad San Francisco de Quito/8 SEMESTRE/DataMining/Examanes/Proyecto_Megaline/data/clean/\"\n",
    "ml_path = \"C:/Users/pmate/OneDrive - Universidad San Francisco de Quito/8 SEMESTRE/DataMining/Examanes/Proyecto_Megaline/data/ml/\"\n",
    "\n",
    "# 📌 Cargar el dataset con consumo y costos\n",
    "df_users = pd.read_csv(clean_path + \"fact_consumo.csv\")\n",
    "\n",
    "# ✅ **1️⃣ Creación de Variables Relativas**\n",
    "df_users[\"uso_minutos_relativo\"] = df_users[\"total_minutos\"] / df_users[\"minutes_included\"]\n",
    "df_users[\"uso_sms_relativo\"] = df_users[\"total_sms\"] / df_users[\"messages_included\"]\n",
    "df_users[\"uso_datos_relativo\"] = df_users[\"total_mb\"] / df_users[\"mb_per_month_included\"]\n",
    "\n",
    "# Reemplazamos valores infinitos por 1 (usuarios sin consumo no generan división por cero)\n",
    "df_users.replace([np.inf, -np.inf], 1, inplace=True)\n",
    "\n",
    "# ✅ **2️⃣ Excesos Normalizados**\n",
    "df_users[\"porcentaje_exceso_minutos\"] = df_users[\"exceso_minutos\"] / df_users[\"minutes_included\"]\n",
    "df_users[\"porcentaje_exceso_sms\"] = df_users[\"exceso_sms\"] / df_users[\"messages_included\"]\n",
    "df_users[\"porcentaje_exceso_mb\"] = df_users[\"exceso_mb\"] / df_users[\"mb_per_month_included\"]\n",
    "\n",
    "# Reemplazamos NaN por 0 (usuarios que no excedieron no tienen valores en estas columnas)\n",
    "df_users.fillna(0, inplace=True)\n",
    "\n",
    "# ✅ **3️⃣ Transformaciones de Variables**\n",
    "df_users[\"log_total_mb\"] = np.log1p(df_users[\"total_mb\"])  # log1p evita log(0)\n",
    "df_users[\"log_costo_total\"] = np.log1p(df_users[\"costo_total\"])\n",
    "\n",
    "# Escalado de 0 a 1 para algunas variables\n",
    "scaler = MinMaxScaler()\n",
    "cols_to_scale = [\"total_minutos\", \"total_sms\", \"total_mb\", \"costo_total\"]\n",
    "df_users[cols_to_scale] = scaler.fit_transform(df_users[cols_to_scale])\n",
    "\n",
    "# ✅ **4️⃣ Variables Demográficas**\n",
    "df_users[\"segmento_edad\"] = pd.cut(df_users[\"age\"], bins=[0, 29, 60, 100], labels=[\"Joven\", \"Adulto\", \"Mayor\"])\n",
    "\n",
    "# Agrupación de regiones en categorías más generales (ejemplo simplificado)\n",
    "df_users[\"region_grupo\"] = df_users[\"city\"].apply(lambda x: \"Este\" if \"New York\" in x else (\"Oeste\" if \"Los Angeles\" in x else \"Centro\"))\n",
    "\n",
    "# ✅ **5️⃣ Guardamos el Dataset Final en `data/ml/`**\n",
    "df_users.to_csv(ml_path + \"usuarios_feature_engineering.csv\", index=False)\n",
    "\n",
    "print(\"\\n✅ Feature Engineering completado. Archivo guardado en 'data/ml/'.\")\n"
   ]
  },
  {
   "cell_type": "code",
   "execution_count": 24,
   "id": "b060a875",
   "metadata": {},
   "outputs": [
    {
     "name": "stdout",
     "output_type": "stream",
     "text": [
      "\n",
      "✅ Corrección de colinealidad completada. Archivo guardado en 'data/ml/'.\n"
     ]
    }
   ],
   "source": [
    "# 📌 Importar librerías\n",
    "import pandas as pd\n",
    "import numpy as np\n",
    "from sklearn.preprocessing import MinMaxScaler\n",
    "\n",
    "# 📌 Ruta del dataset después de Feature Engineering\n",
    "ml_path = \"C:/Users/pmate/OneDrive - Universidad San Francisco de Quito/8 SEMESTRE/DataMining/Examanes/Proyecto_Megaline/data/ml/\"\n",
    "df = pd.read_csv(ml_path + \"usuarios_feature_engineering.csv\")\n",
    "\n",
    "# ✅ **1️⃣ Eliminar Variables Redundantes**\n",
    "df.drop(columns=[\n",
    "    \"exceso_minutos\", \"exceso_sms\", \"exceso_mb\",  # Reemplazadas por variables relativas\n",
    "    \"costo_extra_minutos\", \"costo_extra_sms\", \"costo_extra_mb\",  # Redundantes con el costo total\n",
    "    \"minutes_included\", \"messages_included\", \"mb_per_month_included\",  # Redundantes con usd_monthly_pay\n",
    "    \"usd_per_minute\", \"usd_per_message\", \"usd_per_gb\",  # Altamente correlacionadas\n",
    "    \"log_costo_total\", \"log_total_mb\"  # Si costo_total ya está escalado, no es necesario\n",
    "], inplace=True)\n",
    "\n",
    "# ✅ **2️⃣ Normalización de Variables**\n",
    "scaler = MinMaxScaler()\n",
    "cols_to_scale = [\"total_minutos\", \"total_sms\", \"total_mb\", \"costo_total\"]\n",
    "df[cols_to_scale] = scaler.fit_transform(df[cols_to_scale])\n",
    "\n",
    "# ✅ **3️⃣ Guardar el dataset corregido**\n",
    "df.to_csv(ml_path + \"usuarios_feature_engineering_corregido.csv\", index=False)\n",
    "\n",
    "print(\"\\n✅ Corrección de colinealidad completada. Archivo guardado en 'data/ml/'.\")\n"
   ]
  },
  {
   "cell_type": "code",
   "execution_count": null,
   "id": "fe01887a",
   "metadata": {},
   "outputs": [],
   "source": [
    "#ELIMINAMOS FEATURES CON ALTA CORRELACION PARA EVITAR ERRORES AL ENTRENAR "
   ]
  }
 ],
 "metadata": {
  "kernelspec": {
   "display_name": "Python 3 (ipykernel)",
   "language": "python",
   "name": "python3"
  },
  "language_info": {
   "codemirror_mode": {
    "name": "ipython",
    "version": 3
   },
   "file_extension": ".py",
   "mimetype": "text/x-python",
   "name": "python",
   "nbconvert_exporter": "python",
   "pygments_lexer": "ipython3",
   "version": "3.11.5"
  }
 },
 "nbformat": 4,
 "nbformat_minor": 5
}
