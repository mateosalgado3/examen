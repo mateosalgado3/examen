{
 "cells": [
  {
   "cell_type": "code",
   "execution_count": 6,
   "id": "5ae2f09a",
   "metadata": {},
   "outputs": [
    {
     "data": {
      "text/plain": [
       "'\\n# Conclusiones del Modelo de Predicción de Consumo y Costo Total\\n\\n##  Modelo Seleccionado y Precisión\\nDespués de evaluar múltiples modelos, los mejores resultados fueron obtenidos con:\\n- **Regresión Lineal** para predecir `total_minutos` (R²: 0.4876)\\n- **Random Forest** para predecir `total_mb` (R²: 0.4704)\\n- **Regresión Lineal** para predecir `total_sms` (R²: 0.3798)\\n- **Gradient Boosting** para predecir el `costo_total` (R²: 0.2628)\\n\\n **Conclusión:**  \\n- El modelo **predice con relativa precisión el consumo de minutos y megabytes**.  \\n- La predicción de `total_sms` es más difícil debido a su variabilidad.  \\n- **El costo total es más complejo de predecir** porque depende de múltiples factores externos (patrones de uso irregulares, promociones, cambios de plan, etc.).\\n\\n---\\n\\n##  Aplicaciones del Modelo en la Estrategia de Negocio\\n\\n###  **Personalización de Ofertas y Planes**\\n- Con las predicciones de consumo, se pueden **recomendar planes personalizados** a cada usuario.\\n- Ejemplo: Si un usuario excede recurrentemente su límite de datos, se le puede ofrecer un **upgrade a un plan superior**.\\n\\n### **Optimización de Precios**\\n- La predicción del `costo_total` ayuda a la empresa a **ajustar los precios de los planes** según los patrones de consumo de los clientes.\\n- Se pueden identificar **clientes que gastan más en excedentes** y ofrecerles descuentos para fidelizarlos.\\n\\n###  **Promociones Inteligentes**\\n- Los usuarios que **exceden su consumo de megabytes con frecuencia** pueden recibir **ofertas de paquetes de datos adicionales**.\\n- Los clientes con bajo consumo pueden recibir promociones para incentivarlos a usar más el servicio.\\n\\n### **Reducción de Churn (Cancelaciones)**\\n- Si el modelo detecta **cambios bruscos en el consumo de un usuario**, se pueden enviar ofertas preventivas para **evitar que cancele su servicio**.\\n\\n---\\n\\n##  Mejoras Futuras\\n **Incluir más datos históricos:**  \\n- Actualmente usamos el promedio de consumo de los últimos 3 meses.  \\n- Se puede mejorar con datos de 6 a 12 meses para capturar **tendencias estacionales**.\\n\\n **Usar Modelos de Series Temporales (ARIMA, Prophet, LSTM):**  \\n- Estos modelos son mejores para detectar patrones en datos secuenciales y podrían mejorar la predicción del `costo_total`.\\n\\n **Considerar Factores Externos:**  \\n- Variables como **días festivos, eventos especiales o tendencias económicas** podrían influir en el consumo.\\n\\n **Implementar Segmentación de Usuarios:**  \\n- Agrupar clientes por comportamiento de consumo ayudaría a entrenar modelos más específicos para cada grupo.\\n\\n---\\n\\n **Conclusión Final:**  \\nEl modelo desarrollado es una **herramienta valiosa para la empresa**, permitiendo:\\n1. **Predecir el consumo de los clientes** con relativa precisión.\\n2. **Optimizar estrategias de precios y promociones.**\\n3. **Reducir cancelaciones mediante acciones proactivas.**\\n4. **Mejorar la rentabilidad ajustando los planes según los patrones de consumo.**\\n\\n **Siguientes pasos:** Integrar el modelo con el sistema de facturación y crear un dashboard interactivo para visualizar las predicciones en tiempo real.\\n'"
      ]
     },
     "execution_count": 6,
     "metadata": {},
     "output_type": "execute_result"
    }
   ],
   "source": [
    "\"\"\"\n",
    "# Conclusiones del Modelo de Predicción de Consumo y Costo Total\n",
    "\n",
    "##  Modelo Seleccionado y Precisión\n",
    "Después de evaluar múltiples modelos, los mejores resultados fueron obtenidos con:\n",
    "- **Regresión Lineal** para predecir `total_minutos` (R²: 0.4876)\n",
    "- **Random Forest** para predecir `total_mb` (R²: 0.4704)\n",
    "- **Regresión Lineal** para predecir `total_sms` (R²: 0.3798)\n",
    "- **Gradient Boosting** para predecir el `costo_total` (R²: 0.2628)\n",
    "\n",
    " **Conclusión:**  \n",
    "- El modelo **predice con relativa precisión el consumo de minutos y megabytes**.  \n",
    "- La predicción de `total_sms` es más difícil debido a su variabilidad.  \n",
    "- **El costo total es más complejo de predecir** porque depende de múltiples factores externos (patrones de uso irregulares, promociones, cambios de plan, etc.).\n",
    "\n",
    "---\n",
    "\n",
    "##  Aplicaciones del Modelo en la Estrategia de Negocio\n",
    "\n",
    "###  **Personalización de Ofertas y Planes**\n",
    "- Con las predicciones de consumo, se pueden **recomendar planes personalizados** a cada usuario.\n",
    "- Ejemplo: Si un usuario excede recurrentemente su límite de datos, se le puede ofrecer un **upgrade a un plan superior**.\n",
    "\n",
    "### **Optimización de Precios**\n",
    "- La predicción del `costo_total` ayuda a la empresa a **ajustar los precios de los planes** según los patrones de consumo de los clientes.\n",
    "- Se pueden identificar **clientes que gastan más en excedentes** y ofrecerles descuentos para fidelizarlos.\n",
    "\n",
    "###  **Promociones Inteligentes**\n",
    "- Los usuarios que **exceden su consumo de megabytes con frecuencia** pueden recibir **ofertas de paquetes de datos adicionales**.\n",
    "- Los clientes con bajo consumo pueden recibir promociones para incentivarlos a usar más el servicio.\n",
    "\n",
    "### **Reducción de Churn (Cancelaciones)**\n",
    "- Si el modelo detecta **cambios bruscos en el consumo de un usuario**, se pueden enviar ofertas preventivas para **evitar que cancele su servicio**.\n",
    "\n",
    "---\n",
    "\n",
    "##  Mejoras Futuras\n",
    " **Incluir más datos históricos:**  \n",
    "- Actualmente usamos el promedio de consumo de los últimos 3 meses.  \n",
    "- Se puede mejorar con datos de 6 a 12 meses para capturar **tendencias estacionales**.\n",
    "\n",
    " **Usar Modelos de Series Temporales (ARIMA, Prophet, LSTM):**  \n",
    "- Estos modelos son mejores para detectar patrones en datos secuenciales y podrían mejorar la predicción del `costo_total`.\n",
    "\n",
    " **Considerar Factores Externos:**  \n",
    "- Variables como **días festivos, eventos especiales o tendencias económicas** podrían influir en el consumo.\n",
    "\n",
    " **Implementar Segmentación de Usuarios:**  \n",
    "- Agrupar clientes por comportamiento de consumo ayudaría a entrenar modelos más específicos para cada grupo.\n",
    "\n",
    "---\n",
    "\n",
    " **Conclusión Final:**  \n",
    "El modelo desarrollado es una **herramienta valiosa para la empresa**, permitiendo:\n",
    "1. **Predecir el consumo de los clientes** con relativa precisión.\n",
    "2. **Optimizar estrategias de precios y promociones.**\n",
    "3. **Reducir cancelaciones mediante acciones proactivas.**\n",
    "4. **Mejorar la rentabilidad ajustando los planes según los patrones de consumo.**\n",
    "\n",
    " **Siguientes pasos:** Integrar el modelo con el sistema de facturación y crear un dashboard interactivo para visualizar las predicciones en tiempo real.\n",
    "\"\"\"\n"
   ]
  },
  {
   "cell_type": "code",
   "execution_count": null,
   "id": "0d05112d",
   "metadata": {},
   "outputs": [],
   "source": []
  }
 ],
 "metadata": {
  "kernelspec": {
   "display_name": "Python 3 (ipykernel)",
   "language": "python",
   "name": "python3"
  },
  "language_info": {
   "codemirror_mode": {
    "name": "ipython",
    "version": 3
   },
   "file_extension": ".py",
   "mimetype": "text/x-python",
   "name": "python",
   "nbconvert_exporter": "python",
   "pygments_lexer": "ipython3",
   "version": "3.11.5"
  }
 },
 "nbformat": 4,
 "nbformat_minor": 5
}
